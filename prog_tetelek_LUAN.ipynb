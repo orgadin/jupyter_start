{
 "cells": [
  {
   "cell_type": "markdown",
   "metadata": {},
   "source": [
    "# Programozasi tetelek\n",
    "\n",
    "Az ugynevezett *programozasi tetelek* kimondasa es alkalmazasa hagyomanyosan az egyik meghatarozo pillere az informatika oktatasnak. Ezek a tetelek olyan altalanos celu, egyszeru algoritmus mintak, melyek -a tapasztaltabb fejlesztok szerint is- a problemamegoldas es a programkeszites gyakran felhasznalt elemi epitokovei\n",
    "\n",
    "Nagyon sok feladat megoldasakor igyekszunk a problemat addig-addig boncolni aprobb darabokra -legtobbszor sikerrel-, hogy illeszkedni tudjon egy -esetleg tobb- mar **ismert** es ami sokszor fontosabb mar **megoldott** problema -esetleg azok osszefuzott- vazara. Igy ezeket mar kelloen egyszeruen es rutinosan megoldhatjuk.\n",
    "\n",
    "### Elofordulasuk\n",
    "\n",
    "A targyalt tetelek -mint sablonok- nagyon sok gyakorlati problemanal feltunhetnek es hasznos eszkozeink lehetnek a kesobbiekben. Vigyazzunk azonban, hogy egy-egy feladat lehet annyira specifikus (lsd. osszegzes), hogy egy ugyes trukkel (*_gondolkodas_*) jobb megoldast is adhatunk.\n",
    "\n",
    "A tetelek altalanos formaban mindig egy [n,m] intervallumon ertelmezett **f** fuggveny es egy **P** predikatum (*tulajdonsag*) fuggveny segitsegevel vannak megadva. Ezek segitsegevel matematikailag bizonyitott az algoritmusok **helyes** mukodese.\n",
    "\n",
    "Sokszor azonban csupan gyujtemenytipusokra (*tomb*, *lista*, *vector*..) alkalmazzuk oket, az adatok sokasagan ezert az **f** fuggvenyt egesz egyszruen, mint *aktualis elem* ertelmezzuk, azaz elunk az f(i) := t[i] egyszerusitessel. (Megj.: *minel magasabb szinten tudunk altalanositani egy algoritmust, annal jobban valik ujrafelhasznalhatova.*)\n",
    "\n",
    "### Az algoritmusok leirasa\n",
    "\n",
    "Az algoritmusok leirasahoz un. **pszeudokodot** hasznalunk, ami egy egyszerusitett nyelv specialisan erre a celra kialakitva. Szandekosan hasonlit a programozasi nyelvekre, de nem azonosul egyikkel sem.\n",
    "\n",
    "[pszeudokod](https://hu.wikipedia.org/wiki/Pszeudok%C3%B3d)"
   ]
  },
  {
   "cell_type": "raw",
   "metadata": {},
   "source": [
    "#sajat jegyzet:\n",
    "\n",
    "Lényegében mi az adatokon fogunk dolgozni, és a listánk legtöbbször 1-el fog kezdődni. Az aktuális elemen fogunk dolgozni\n",
    "\n",
    "Folyamatábra: Start(körben)-> be: szám(téglalap a szekvencia)-> szám<0(rombusz, if eláhazás) -> i vagy h attól függ merre megyünk. ki: \"negatív\" vagy ki: \"nem negatív\"\n",
    "\n",
    "Pszeudokód: használunk néhány kulcsszót, és ezeket használjuk\n",
    "be: szám\n",
    "ha szam < 0\n",
    "    akkor ki \"...\"\n",
    "    különben ki \"...\"\n",
    "    "
   ]
  },
  {
   "cell_type": "markdown",
   "metadata": {},
   "source": [
    "### Osszegzes\n",
    "\n",
    "Adott ertekek -N db- gyujtemenye. Hatarozzuk meg ezen ertekek osszeget.\n",
    "- - -\n",
    "\n",
    "#### Pszeudokod\n",
    "\n",
    "**be**: t[N]  \n",
    "osszeg := 0  \n",
    "**ciklus** 1-tol N-ig:  \n",
    "&nbsp;&nbsp;&nbsp;&nbsp;osszeg := osszeg + t[i]  \n",
    "**ciklus vege**  \n",
    "**ki**: osszeg  "
   ]
  },
  {
   "cell_type": "code",
   "execution_count": 35,
   "metadata": {},
   "outputs": [],
   "source": [
    "\"\"\"\n",
    "def summa(numbers):\n",
    "    pass\n",
    "\"\"\"\n",
    "def summa(numbers):\n",
    "    n_sum = 0\n",
    "    #i = 0\n",
    "    #for elem in numbers:\n",
    "    for i in range(len(numbers)):\n",
    "        n_sum += numbers[i]\n",
    "        i += 1\n",
    "    return n_sum"
   ]
  },
  {
   "cell_type": "code",
   "execution_count": 36,
   "metadata": {},
   "outputs": [
    {
     "name": "stdout",
     "output_type": "stream",
     "text": [
      "55\n"
     ]
    }
   ],
   "source": [
    "print(summa([x for x in range(11)])) # 55"
   ]
  },
  {
   "cell_type": "raw",
   "metadata": {},
   "source": [
    "#sajat jegyzet\n",
    "Ebből a tételből mondjuk egy kis átalakítással meg lehet oldani a faktoriális kiszámolását"
   ]
  },
  {
   "cell_type": "code",
   "execution_count": 37,
   "metadata": {},
   "outputs": [],
   "source": [
    "def fakt(numb):\n",
    "    faktorial = 1\n",
    "    for i in range(1, numb+1):\n",
    "        faktorial *= i\n",
    "    return faktorial\n"
   ]
  },
  {
   "cell_type": "code",
   "execution_count": 38,
   "metadata": {},
   "outputs": [
    {
     "name": "stdout",
     "output_type": "stream",
     "text": [
      "120\n",
      "6\n",
      "2\n"
     ]
    }
   ],
   "source": [
    "print(fakt(5))\n",
    "print(fakt(3))\n",
    "print(fakt(2))"
   ]
  },
  {
   "cell_type": "code",
   "execution_count": 39,
   "metadata": {},
   "outputs": [],
   "source": [
    "def comp_str(strings):\n",
    "    comp = \"\"\n",
    "    for i in range(len(strings)):\n",
    "        comp += strings[i][i]\n",
    "    return comp"
   ]
  },
  {
   "cell_type": "code",
   "execution_count": 40,
   "metadata": {},
   "outputs": [
    {
     "name": "stdout",
     "output_type": "stream",
     "text": [
      "AOZ\n"
     ]
    }
   ],
   "source": [
    "print(comp_str([\"ASD\", \"LOL\", \"GGZ\"])) # AOZ -> a szövegből azt a karaktert vesszük ki, ahányadik helyen van a tömben a szó"
   ]
  },
  {
   "cell_type": "markdown",
   "metadata": {},
   "source": [
    "#### Altalanositas\n",
    "\n",
    "Az altalnositas soran kihasznalhatjuk, hogy lenyegeben 3 fuggvenyt rejt el elolunk az algoritmus, melyekre befolyassal lehetunk\n",
    "* **f**: az elejen megalapodtunk abban, hogy az egyszeruseg kedveert ezt a fuggvenyt csupan arra hasznaljuk, hogy **kivalassza** szamunkra az aktualis elemet (**f**(i) -> t[i])\n",
    "* **beta**: minden osszegzendo elemre megadhato egy tulajdonsag, amit figyelembe veve osszegezzuk az ertekeket, mivel minden elemet osszegzunk a fent leirt tetelben igy ekkor a beta(i) := True fgv-t hasznaljuk implicit modon\n",
    "* **op**: maga a muvelet, mely az emlitett tetelben az osszeadas\n",
    "\n",
    "Az osszegzes algoritmusat ugy tudjuk legjobban altalanositani, ha a felhasznalt fuggvenyeket mind parameterkent kaphatja meg. Ekkor kicsit felrevezeto lehet az *osszegezes* megnevezes hasznalata, hasznaljuk ilyenkor a talan szerencsesebb **sorozatszamitas** megnevezest."
   ]
  },
  {
   "cell_type": "code",
   "execution_count": 34,
   "metadata": {},
   "outputs": [],
   "source": [
    "def adv_seq(numbers,\n",
    "            f,\n",
    "            beta,\n",
    "            op,\n",
    "            start):\n",
    "    pass"
   ]
  },
  {
   "cell_type": "markdown",
   "metadata": {},
   "source": [
    "### Szamlalas\n",
    "\n",
    "Adott elemek -N db- gyujtemenye. Szamoljuk meg, hany darab elem rendelkezik a megadott beta tulajdonsaggal.\n",
    "- - -\n",
    "\n",
    "#### Pszeudokod\n",
    "\n",
    "**be**: t[N]  \n",
    "szamlalo := 0  \n",
    "**ciklus** 1-tol N-ig:  \n",
    "&nbsp;&nbsp;&nbsp;&nbsp;**ha** beta(t[i]):  \n",
    "&nbsp;&nbsp;&nbsp;&nbsp;\n",
    "&nbsp;&nbsp;&nbsp;&nbsp;**akkor** szamlalo := szamlalo + 1  \n",
    "**ciklus vege**  \n",
    "**ki**: szamlalo"
   ]
  },
  {
   "cell_type": "raw",
   "metadata": {},
   "source": [
    "Béta a tulajdonság jele (maga a béta görög jele)"
   ]
  },
  {
   "cell_type": "code",
   "execution_count": 49,
   "metadata": {},
   "outputs": [],
   "source": [
    "def count_even_numbers(numbers):\n",
    "    count_n = 0\n",
    "    for i in range(len(numbers)):\n",
    "        if numbers[i] % 2 == 0:\n",
    "            count_n += 1\n",
    "    return count_n"
   ]
  },
  {
   "cell_type": "code",
   "execution_count": 50,
   "metadata": {},
   "outputs": [
    {
     "name": "stdout",
     "output_type": "stream",
     "text": [
      "6\n"
     ]
    }
   ],
   "source": [
    "print(count_even_numbers([x for x in range(11)])) # 6"
   ]
  },
  {
   "cell_type": "markdown",
   "metadata": {},
   "source": [
    "#### Altalanositas\n",
    "\n",
    "**MEGGONDOLANDO**"
   ]
  },
  {
   "cell_type": "markdown",
   "metadata": {},
   "source": [
    "### Eldontes\n",
    "\n",
    "Adott elemek -N db- gyujtemenye. Dontsuk el, hogy van-e kozottuk adott beta tulajdonsagu elem.\n",
    "- - -\n",
    "\n",
    "#### Pszeudokod"
   ]
  },
  {
   "cell_type": "markdown",
   "metadata": {},
   "source": [
    "t[1,2,3,4,5,6,7] #N a tömb mérete\n",
    "**be**: t[N]  \n",
    "talalt := false  \n",
    "i := 1  \n",
    "**ciklus amíg** nem talalt és i <= N:  \n",
    "&nbsp;&nbsp;&nbsp;&nbsp;**ha** béta(t[i])  \n",
    "&nbsp;&nbsp;&nbsp;&nbsp;&nbsp;&nbsp;&nbsp;&nbsp;**akkor** talalt =: true            \n",
    "&nbsp;&nbsp;&nbsp;&nbsp;i = i + 1  \n",
    "**ciklus vége**  \n",
    "**ki**: talalt  "
   ]
  },
  {
   "cell_type": "code",
   "execution_count": 57,
   "metadata": {},
   "outputs": [],
   "source": [
    "def dec_even(numbers):\n",
    "    dec = False\n",
    "    i = 0\n",
    "    while dec == False and i < len(numbers):\n",
    "        if numbers[i] % 2 == 0:\n",
    "            dec = True    \n",
    "        i += 1\n",
    "    return dec"
   ]
  },
  {
   "cell_type": "code",
   "execution_count": 58,
   "metadata": {},
   "outputs": [
    {
     "name": "stdout",
     "output_type": "stream",
     "text": [
      "True\n"
     ]
    }
   ],
   "source": [
    "print(dec_even([1,3,4,6,7])) # True"
   ]
  },
  {
   "cell_type": "markdown",
   "metadata": {},
   "source": [
    "#### Altalanositas\n",
    "\n",
    "**MEGGONDOLANDO**"
   ]
  },
  {
   "cell_type": "markdown",
   "metadata": {},
   "source": [
    "### Kivalasztas\n",
    "\n",
    "Adott elemek -N db- gyujtemenye. Valasszuk ki kozuluk azt amelyik rendelkezik az adott beta tulajdonsaggal (index). (Megj.: *az algoritmus akkor mukodik jol, ha biztosan tudjuk, hogy letezik az a bizonyos elem*)\n",
    "- - -\n",
    "\n",
    "#### Pszeudokod"
   ]
  },
  {
   "cell_type": "code",
   "execution_count": 8,
   "metadata": {},
   "outputs": [],
   "source": [
    "def select_even(numbers):\n",
    "    pass\n",
    "    \n",
    "        "
   ]
  },
  {
   "cell_type": "code",
   "execution_count": 9,
   "metadata": {
    "scrolled": true
   },
   "outputs": [
    {
     "name": "stdout",
     "output_type": "stream",
     "text": [
      "None\n"
     ]
    }
   ],
   "source": [
    "print(select_even([1,3,5,4,7])) # 3"
   ]
  },
  {
   "cell_type": "markdown",
   "metadata": {},
   "source": [
    "### Linearis kereses\n",
    "\n",
    "Adott elemek -N db- gyujtemenye. Keressuk meg az adott beta tulajdonsaggal rendelkezo elemet (index). (Megj.: *az elozonel biztonsagosabb, megadja, hogy van-e es ha igen, hol*)\n",
    "- - -\n",
    "\n",
    "#### Pszeudokod"
   ]
  },
  {
   "cell_type": "code",
   "execution_count": 10,
   "metadata": {},
   "outputs": [],
   "source": [
    "def lin_search_even(numbers):\n",
    "    pass"
   ]
  },
  {
   "cell_type": "code",
   "execution_count": 11,
   "metadata": {},
   "outputs": [
    {
     "name": "stdout",
     "output_type": "stream",
     "text": [
      "None\n",
      "None\n"
     ]
    }
   ],
   "source": [
    "print(lin_search_even([1,2,3,4,5])) # 1\n",
    "print(lin_search_even([1,3,5,7])) # -1"
   ]
  },
  {
   "cell_type": "markdown",
   "metadata": {},
   "source": [
    "#### Altalonistas\n",
    "\n",
    "**MEGGONDOLANDO**"
   ]
  },
  {
   "cell_type": "markdown",
   "metadata": {},
   "source": [
    "### Maxumim kivalaszas\n",
    "\n",
    "Adott ertekek -N db- gyujtemenye. Valasszuk ki kozuluk a legnagyobbat (*ertek* vs. *index*).\n",
    "- - -\n",
    "\n",
    "#### Pszeudokod"
   ]
  },
  {
   "cell_type": "code",
   "execution_count": 12,
   "metadata": {},
   "outputs": [],
   "source": [
    "def maximum(numbers):\n",
    "    pass"
   ]
  },
  {
   "cell_type": "code",
   "execution_count": 13,
   "metadata": {},
   "outputs": [
    {
     "name": "stdout",
     "output_type": "stream",
     "text": [
      "None\n"
     ]
    }
   ],
   "source": [
    "print(maximum([1,3,5,3,2,42,4,5,3])) # 42 vs. 5"
   ]
  },
  {
   "cell_type": "markdown",
   "metadata": {},
   "source": [
    "#### Altalanositas\n",
    "\n",
    "A maximum kivalasztas altalanositasakor ugyelnunk kell arra, hogy a kapott gyujtemeny elemei kozott ertelmezve legyen egy **R** relacio (lsd. **<**), hogy egy tetszoleges elem osszehasonlithato legyen az osszes tobbi elofordulo elemmel (*teljesen rendezett halmaz*). Ha az adott **R** relacio teljesit bizonyos tulajdonsagokat, rendezesrol beszelunk. (Megj.: *errol azert fontos beszelni, hogy legyen ertelme a **legnagyobb** / **legkisebb** megnevezesnek*).\n",
    "* **reflexiv**: minden elem relacioban all onmagaval, azaz R(a,a) (3 < 3)\n",
    "* **antiszimmetrikus**: ha a relacioban all b-vel **es** b relacioban all a-val, **akkor** a = b, azaz R(a,b) es R(b,a) => a = b (a <= b **es** b <= a pl. 3 = 3)\n",
    "* **tranzitiv**: ha a relacioban all b-vel **es** b relacioban all c-vel, **akkor** a relacioban all c-vel is, azaz R(a,b) es R(b,c) => R(a,c) (a < b **es** b < c, **akkor** a < c pl. 2 < 3 es 3 < 5, akkor 2 < 5)\n",
    "\n",
    "Az altalanositott valtozatnal celszerubb a helyenkent felrevezeto maximum kivalasztas helyett a **szelsoertek** kivalasztas megnevezest hasznalni.\n",
    "\n",
    "**MEGGONDOLANDO**"
   ]
  },
  {
   "cell_type": "markdown",
   "metadata": {},
   "source": [
    "## Hazi feladat\n",
    "\n",
    "Irjunk egy fuggvenyt, ami egy kapott listabol visszaadja a legnagyobb primet, ha ilyen nincs -1-et. "
   ]
  },
  {
   "cell_type": "code",
   "execution_count": 2,
   "metadata": {},
   "outputs": [
    {
     "name": "stdout",
     "output_type": "stream",
     "text": [
      "None\n",
      "None\n"
     ]
    }
   ],
   "source": [
    "def max_prime(numbers):\n",
    "    pass\n",
    "\n",
    "print(max_prime([3,4,2,3,4,6,7,5,3,5,7,8,65,32,34,11])) # 11\n",
    "print(max_prime([342, 2456, 8238, 82745])) # -1"
   ]
  }
 ],
 "metadata": {
  "kernelspec": {
   "display_name": "Python 3",
   "language": "python",
   "name": "python3"
  },
  "language_info": {
   "codemirror_mode": {
    "name": "ipython",
    "version": 3
   },
   "file_extension": ".py",
   "mimetype": "text/x-python",
   "name": "python",
   "nbconvert_exporter": "python",
   "pygments_lexer": "ipython3",
   "version": "3.6.4"
  }
 },
 "nbformat": 4,
 "nbformat_minor": 2
}
